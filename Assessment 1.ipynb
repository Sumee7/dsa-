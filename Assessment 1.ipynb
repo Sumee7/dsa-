{
 "cells": [
  {
   "cell_type": "markdown",
   "metadata": {},
   "source": [
    "Array Manupulation Task\n",
    "i) creating an unsorted array called Test of size 5"
   ]
  },
  {
   "cell_type": "code",
   "execution_count": 1,
   "metadata": {},
   "outputs": [],
   "source": [
    "# i) Create an unsorted array called “Test” of size 5\n",
    "Test = [4, 2, 9, 1, 7]\n"
   ]
  },
  {
   "cell_type": "markdown",
   "metadata": {},
   "source": [
    "ii) increasing the test array size till 10 element, call it \"Test1\""
   ]
  },
  {
   "cell_type": "code",
   "execution_count": 2,
   "metadata": {},
   "outputs": [],
   "source": [
    "# ii) Increase the Test array size to 10 elements, call it \"Test1\"\n",
    "Test1 = [4, 2, 9, 1, 7, 5, 8, 3, 10, 6]\n"
   ]
  },
  {
   "cell_type": "markdown",
   "metadata": {},
   "source": [
    "iii) Finding the length og Test1 Array"
   ]
  },
  {
   "cell_type": "code",
   "execution_count": 4,
   "metadata": {},
   "outputs": [
    {
     "name": "stdout",
     "output_type": "stream",
     "text": [
      "Length of Test1 array: 10\n"
     ]
    }
   ],
   "source": [
    "\n",
    "length_of_Test1 = len(Test1)\n",
    "print(\"Length of Test1 array:\", length_of_Test1)\n"
   ]
  },
  {
   "cell_type": "markdown",
   "metadata": {},
   "source": [
    "iv) Print the contents of the Test1 Array"
   ]
  },
  {
   "cell_type": "code",
   "execution_count": 5,
   "metadata": {},
   "outputs": [
    {
     "name": "stdout",
     "output_type": "stream",
     "text": [
      "Contents of Test1 array: [4, 2, 9, 1, 7, 5, 8, 3, 10, 6]\n"
     ]
    }
   ],
   "source": [
    "\n",
    "print(\"Contents of Test1 array:\", Test1)\n"
   ]
  },
  {
   "cell_type": "markdown",
   "metadata": {},
   "source": [
    "b) Abstract Data Type (ADT) for Test1 Array\n",
    "ADT Array:\n",
    "\n",
    "Data:\n",
    "Array: [4, 2, 9, 1, 7, 5, 8, 3, 10, 6]\n",
    "Length: 10\n",
    "Operations:\n",
    "Retrieve element at a specific index.\n",
    "Update element at a specific index.\n",
    "Insert an element at the end of the array.\n",
    "Delete an element from a specific index.\n",
    "Find the length of the array.\n",
    "Sort the array using Bubble Sort.\n",
    "Sort the array using Selection Sort.\n"
   ]
  },
  {
   "cell_type": "markdown",
   "metadata": {},
   "source": [
    "c) Pseudo-code for Bubble Sort and Selection Sort\n",
    "Bubble Sort Pseudo-code:\n",
    "for i from 0 to length_of_Test1 - 1 do\n",
    "    for j from 0 to length_of_Test1 - i - 1 do\n",
    "        if Test1[j] > Test1[j + 1] then\n",
    "            swap(Test1[j], Test1[j + 1])\n"
   ]
  },
  {
   "cell_type": "markdown",
   "metadata": {},
   "source": [
    "Selection Sort Pseudo-code:\n",
    "for i from 0 to length_of_Test1 - 1 do\n",
    "    min_index = i\n",
    "    for j from i + 1 to length_of_Test1 do\n",
    "        if Test1[j] < Test1[min_index] then\n",
    "            min_index = j\n",
    "    swap(Test1[i], Test1[min_index])\n"
   ]
  },
  {
   "cell_type": "markdown",
   "metadata": {},
   "source": [
    "d) Final Python Code for Bubble Sort and Selection Sort\n",
    "Bubble Sort Python Code:"
   ]
  },
  {
   "cell_type": "code",
   "execution_count": 7,
   "metadata": {},
   "outputs": [
    {
     "name": "stdout",
     "output_type": "stream",
     "text": [
      "Bubble Sorted Test1 array: [1, 2, 3, 4, 5, 6, 7, 8, 9, 10]\n"
     ]
    }
   ],
   "source": [
    "\n",
    "def bubble_sort(arr):\n",
    "    n = len(arr)\n",
    "    for i in range(n):\n",
    "        for j in range(0, n-i-1):\n",
    "            if arr[j] > arr[j+1]:\n",
    "                arr[j], arr[j+1] = arr[j+1], arr[j]\n",
    "    return arr\n",
    "\n",
    "# Bubble sort Test1 array\n",
    "sorted_Test1_bubble = bubble_sort(Test1.copy())\n",
    "print(\"Bubble Sorted Test1 array:\", sorted_Test1_bubble)\n"
   ]
  },
  {
   "cell_type": "markdown",
   "metadata": {},
   "source": [
    "Selection Sort Python Code:"
   ]
  },
  {
   "cell_type": "code",
   "execution_count": 8,
   "metadata": {},
   "outputs": [
    {
     "name": "stdout",
     "output_type": "stream",
     "text": [
      "Selection Sorted Test1 array: [1, 2, 3, 4, 5, 6, 7, 8, 9, 10]\n"
     ]
    }
   ],
   "source": [
    "\n",
    "def selection_sort(arr):\n",
    "    n = len(arr)\n",
    "    for i in range(n):\n",
    "        min_index = i\n",
    "        for j in range(i+1, n):\n",
    "            if arr[j] < arr[min_index]:\n",
    "                min_index = j\n",
    "        arr[i], arr[min_index] = arr[min_index], arr[i]\n",
    "    return arr\n",
    "\n",
    "# Selection sort Test1 array\n",
    "sorted_Test1_selection = selection_sort(Test1.copy())\n",
    "print(\"Selection Sorted Test1 array:\", sorted_Test1_selection)\n"
   ]
  }
 ],
 "metadata": {
  "kernelspec": {
   "display_name": "base",
   "language": "python",
   "name": "python3"
  },
  "language_info": {
   "codemirror_mode": {
    "name": "ipython",
    "version": 3
   },
   "file_extension": ".py",
   "mimetype": "text/x-python",
   "name": "python",
   "nbconvert_exporter": "python",
   "pygments_lexer": "ipython3",
   "version": "3.12.4"
  }
 },
 "nbformat": 4,
 "nbformat_minor": 2
}
